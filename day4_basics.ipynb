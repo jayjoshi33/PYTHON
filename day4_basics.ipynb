{
 "cells": [
  {
   "cell_type": "code",
   "execution_count": 4,
   "metadata": {},
   "outputs": [
    {
     "name": "stdout",
     "output_type": "stream",
     "text": [
      "Hello world\n"
     ]
    }
   ],
   "source": [
    "#function: Group of statments used to perform certain task.\n",
    "#1\n",
    "def myfun(): #function definition #no argument no return type\n",
    "    print(\"Hello world\")\n",
    "myfun()    #function calling"
   ]
  },
  {
   "cell_type": "code",
   "execution_count": 6,
   "metadata": {},
   "outputs": [
    {
     "name": "stdout",
     "output_type": "stream",
     "text": [
      "Hello world\n",
      "Name is Jay\n"
     ]
    }
   ],
   "source": [
    "#2\n",
    "def fun1(name): #with argument\n",
    "    print(\"Hello world\")\n",
    "    return name\n",
    "n=fun1(\"Jay\") \n",
    "print(\"Name is\",n)"
   ]
  },
  {
   "cell_type": "code",
   "execution_count": 8,
   "metadata": {},
   "outputs": [
    {
     "name": "stdout",
     "output_type": "stream",
     "text": [
      "Number is 12345\n",
      "Name is Akash technolab\n"
     ]
    }
   ],
   "source": [
    "#3 we can have mutliple return values in python. This is only possible in python.\n",
    "def fun2():\n",
    "    n=12345;\n",
    "    name=\"Akash technolab\"\n",
    "    return n,name\n",
    "x,x1=fun2()\n",
    "print(\"Number is\",x)\n",
    "print(\"Name is\",x1)"
   ]
  },
  {
   "cell_type": "code",
   "execution_count": 11,
   "metadata": {},
   "outputs": [
    {
     "data": {
      "text/plain": [
       "30"
      ]
     },
     "execution_count": 11,
     "metadata": {},
     "output_type": "execute_result"
    }
   ],
   "source": [
    "#4 three types of function arguments.\n",
    "def calsum(n1=10,n2=20): #these becomes default arguments.\n",
    "    return n1+n2\n",
    "calsum(2,4)\n",
    "calsum() # when we dont pass any paramters"
   ]
  },
  {
   "cell_type": "code",
   "execution_count": 14,
   "metadata": {},
   "outputs": [
    {
     "data": {
      "text/plain": [
       "90"
      ]
     },
     "execution_count": 14,
     "metadata": {},
     "output_type": "execute_result"
    }
   ],
   "source": [
    "#5\n",
    "def calsum(n1=10,n2=20): #these becomes default arguments.\n",
    "    return n1+n2\n",
    "\n",
    "calsum(n2=20,n1=70) #using keyword arguments. It is used when we want to change the order of parameters. "
   ]
  },
  {
   "cell_type": "code",
   "execution_count": 16,
   "metadata": {},
   "outputs": [
    {
     "name": "stdout",
     "output_type": "stream",
     "text": [
      "Sum is 33\n"
     ]
    }
   ],
   "source": [
    "#6 * non-keyword arguments\n",
    "# ** keyword arguments\n",
    "def sum(*n): # it means we dont know how much variables will be passed. This is variable length non-keyword.\n",
    "    s=0\n",
    "    for i in n:\n",
    "        s=s+i\n",
    "    print(\"Sum is\",s)\n",
    "sum(10,20,3) #It is decided at the time of function calling.\n",
    "    "
   ]
  },
  {
   "cell_type": "code",
   "execution_count": 18,
   "metadata": {},
   "outputs": [
    {
     "name": "stdout",
     "output_type": "stream",
     "text": [
      "n Jay\n",
      "Jay\n",
      "m hiii\n",
      "hiii\n"
     ]
    }
   ],
   "source": [
    "#7 keyword argement.\n",
    "def fun(**a):\n",
    "    for i,j in a.items():\n",
    "        print(i,j)\n",
    "        print(j)# to print only values.\n",
    "fun(n=\"Jay\",m=\"hiii\")        "
   ]
  },
  {
   "cell_type": "code",
   "execution_count": 2,
   "metadata": {},
   "outputs": [
    {
     "name": "stdout",
     "output_type": "stream",
     "text": [
      "Value inside function 10\n",
      "Value outside function 60\n"
     ]
    }
   ],
   "source": [
    "#8\n",
    "#scope in python: 1)Local variable- Varaibles declared inside function are called local variables.\n",
    "# 2)Global variable- variables declard outside the function.\n",
    "def fun5():\n",
    "    x=10\n",
    "    print(\"Value inside function\",x)\n",
    "x=60\n",
    "fun5()\n",
    "print(\"Value outside function\",x)\n",
    "#Indentation is very important in python."
   ]
  },
  {
   "cell_type": "code",
   "execution_count": 19,
   "metadata": {},
   "outputs": [],
   "source": [
    "#Operators in python"
   ]
  },
  {
   "cell_type": "code",
   "execution_count": 10,
   "metadata": {},
   "outputs": [
    {
     "name": "stdout",
     "output_type": "stream",
     "text": [
      "16\n",
      "4\n",
      "60\n",
      "1.6666666666666667\n",
      "1\n",
      "1000000\n",
      "True\n",
      "False\n",
      "True\n",
      "False\n"
     ]
    }
   ],
   "source": [
    "#9\n",
    "#Arithmetic operators\n",
    "x=10\n",
    "y=6\n",
    "print(x+y)\n",
    "print(x-y)\n",
    "print(x*y)\n",
    "print(x/y)\n",
    "print(x//y) #shows only integer value\n",
    "print(x**y)\n",
    "print(x>y)\n",
    "print(x==y)\n",
    "print(x!=y)\n",
    "print(x<y)"
   ]
  },
  {
   "cell_type": "code",
   "execution_count": 20,
   "metadata": {},
   "outputs": [
    {
     "name": "stdout",
     "output_type": "stream",
     "text": [
      "n2 is largest\n"
     ]
    }
   ],
   "source": [
    "#10\n",
    "#and operator\n",
    "n1=3\n",
    "n2=5\n",
    "n3=1\n",
    "if(n1>n2) and (n1>n3):\n",
    "    print(\"n1 is largest\")\n",
    "elif(n2>n1) and (n2>n1):\n",
    "    print(\"n2 is largest\")\n",
    "else:\n",
    "    print(\"n3 is largest\")"
   ]
  },
  {
   "cell_type": "code",
   "execution_count": 24,
   "metadata": {},
   "outputs": [
    {
     "name": "stdout",
     "output_type": "stream",
     "text": [
      "Enter character:e\n",
      "e  is vowel.\n"
     ]
    }
   ],
   "source": [
    "#11\n",
    "#or operator example\n",
    "n=input(\"Enter character:\")\n",
    "n=n.lower()\n",
    "if(n==\"a\" or n==\"e\" or n==\"i\" or n==\"o\" or n=='u'):\n",
    "    print(n,\" is vowel.\")\n",
    "else:\n",
    "    print(n,\" is consonent.\")\n",
    "    \n"
   ]
  },
  {
   "cell_type": "code",
   "execution_count": 27,
   "metadata": {},
   "outputs": [
    {
     "name": "stdout",
     "output_type": "stream",
     "text": [
      "True\n",
      "False\n",
      "True\n"
     ]
    }
   ],
   "source": [
    "#12\n",
    "#in operator #to check whether value exist or not.\n",
    "l=[10,20,30]\n",
    "x=10\n",
    "y=8\n",
    "print(x in l)\n",
    "print(y in l)\n",
    "print(y not in l)"
   ]
  },
  {
   "cell_type": "code",
   "execution_count": 26,
   "metadata": {},
   "outputs": [
    {
     "name": "stdout",
     "output_type": "stream",
     "text": [
      "False\n",
      "True\n",
      "True\n"
     ]
    }
   ],
   "source": [
    "#13\n",
    "#Identity operator \"is\" to check whether they have same value or not.\n",
    "s=33\n",
    "r=12\n",
    "t=33\n",
    "print(s is r)\n",
    "print(s is t)\n",
    "print(s is not r)"
   ]
  },
  {
   "cell_type": "code",
   "execution_count": null,
   "metadata": {},
   "outputs": [],
   "source": []
  },
  {
   "cell_type": "code",
   "execution_count": null,
   "metadata": {},
   "outputs": [],
   "source": []
  }
 ],
 "metadata": {
  "kernelspec": {
   "display_name": "Python 3",
   "language": "python",
   "name": "python3"
  },
  "language_info": {
   "codemirror_mode": {
    "name": "ipython",
    "version": 3
   },
   "file_extension": ".py",
   "mimetype": "text/x-python",
   "name": "python",
   "nbconvert_exporter": "python",
   "pygments_lexer": "ipython3",
   "version": "3.8.3"
  }
 },
 "nbformat": 4,
 "nbformat_minor": 4
}
