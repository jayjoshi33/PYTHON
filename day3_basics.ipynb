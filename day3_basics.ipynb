{
 "cells": [
  {
   "cell_type": "code",
   "execution_count": 1,
   "metadata": {},
   "outputs": [
    {
     "name": "stdout",
     "output_type": "stream",
     "text": [
      "Enter name:Jay\n",
      "Hello Jay\n",
      "Enter number:3\n",
      "Enter another number:12\n",
      "Sum is 15\n"
     ]
    }
   ],
   "source": [
    "#1 input() function is used to recive input from user while print() is used to show output to user.\n",
    "n=input(\"Enter name:\")\n",
    "print(\"Hello\",n)\n",
    "x=int(input(\"Enter number:\"))#to perform arithmetic operations we need to convert string into int.\n",
    "y=int(input(\"Enter another number:\"))\n",
    "sum=x+y\n",
    "print(\"Sum is\",sum)"
   ]
  },
  {
   "cell_type": "code",
   "execution_count": 2,
   "metadata": {},
   "outputs": [
    {
     "name": "stdout",
     "output_type": "stream",
     "text": [
      "n2 is greater\n"
     ]
    }
   ],
   "source": [
    "#2 ifelse statment-Used to compare certain conditions\n",
    "n1=5\n",
    "n2=9\n",
    "if n1>n2:\n",
    "    print(\"n1 is greater\")\n",
    "else:\n",
    "    print(\"n2 is greater\")"
   ]
  },
  {
   "cell_type": "code",
   "execution_count": 4,
   "metadata": {},
   "outputs": [
    {
     "name": "stdout",
     "output_type": "stream",
     "text": [
      "Enter number:45\n",
      "Number is positive.\n"
     ]
    }
   ],
   "source": [
    "#3 if.......elif statment\n",
    "n=int(input(\"Enter number:\"))\n",
    "if(n==0):\n",
    "    print(\"Number is neutral.\")\n",
    "elif(n>0):\n",
    "    print(\"Number is positive.\")\n",
    "else:\n",
    "    print(\"Number is negative.\")\n",
    "\n",
    "    "
   ]
  },
  {
   "cell_type": "code",
   "execution_count": 6,
   "metadata": {},
   "outputs": [
    {
     "name": "stdout",
     "output_type": "stream",
     "text": [
      "Enter number:-8\n",
      "Number is negative\n"
     ]
    }
   ],
   "source": [
    "#4 nested if condtion- Here we use if inside another if condition.\n",
    "n1=int(input(\"Enter number:\"))\n",
    "if (n1>=0):\n",
    "    if(n1==0):\n",
    "        print(\"Number is zero\")\n",
    "    else:\n",
    "        print(\"Number is positive\")\n",
    "else:\n",
    "    print(\"Number is negative\")"
   ]
  },
  {
   "cell_type": "code",
   "execution_count": 7,
   "metadata": {},
   "outputs": [
    {
     "name": "stdout",
     "output_type": "stream",
     "text": [
      "Value is  1\n",
      "Value is  2\n",
      "Value is  3\n",
      "Value is  4\n",
      "Value is  5\n",
      "Value is  6\n",
      "Value is  7\n"
     ]
    }
   ],
   "source": [
    "#5 while loop\n",
    "i=1\n",
    "while(i<=7):\n",
    "    print(\"Value is \",i)\n",
    "    i=i+1"
   ]
  },
  {
   "cell_type": "code",
   "execution_count": 11,
   "metadata": {},
   "outputs": [
    {
     "name": "stdout",
     "output_type": "stream",
     "text": [
      "H\n",
      "e\n",
      "l\n",
      "l\n",
      "o\n",
      "\n",
      "2\n",
      "3\n",
      "Meet\n",
      "8\n",
      "9\n"
     ]
    }
   ],
   "source": [
    "#6 for loop is used in list,tuple,string.\n",
    "#Eg of string:\n",
    "s=\"Hello\"\n",
    "for i in s:\n",
    "    print(i)\n",
    "print()\n",
    "l=[2,3,\"Meet\",8,9] #for loop used with list.\n",
    "for j in l:\n",
    "    print(j)"
   ]
  },
  {
   "cell_type": "code",
   "execution_count": 6,
   "metadata": {},
   "outputs": [
    {
     "name": "stdout",
     "output_type": "stream",
     "text": [
      "Value is 0\n",
      "Value is 1\n",
      "Value is 2\n",
      "Value is 3\n",
      "Value is 4\n",
      "Value is 5\n",
      "Value is 6\n",
      "Value is 7\n",
      "Value is 8\n",
      "Value is 9\n"
     ]
    }
   ],
   "source": [
    "#7 range(start,end,step-size) #3 parameters.\n",
    "for i in range(10):         #by default starts from 0. will generate till 9.\n",
    "    print(\"Value is\",i)  #also last value is printed.\n",
    "    "
   ]
  },
  {
   "cell_type": "code",
   "execution_count": 12,
   "metadata": {},
   "outputs": [
    {
     "name": "stdout",
     "output_type": "stream",
     "text": [
      "Value is  1\n",
      "Value is  2\n",
      "Value is  3\n",
      "Value is  4\n"
     ]
    }
   ],
   "source": [
    "#8 range example\n",
    "for j in range(1,5): #here we are defining initial condition so starts from 1.\n",
    "    print(\"Value is \",j)"
   ]
  },
  {
   "cell_type": "code",
   "execution_count": 8,
   "metadata": {},
   "outputs": [
    {
     "name": "stdout",
     "output_type": "stream",
     "text": [
      "Value is 1\n",
      "Value is 3\n",
      "Value is 5\n",
      "Value is 7\n",
      "Value is 9\n"
     ]
    }
   ],
   "source": [
    "#9 range with step-size\n",
    "for k in range(1,10,2): # here step size is 2 so . it wikk increment by 2.\n",
    "    print(\"Value is\",k)"
   ]
  },
  {
   "cell_type": "code",
   "execution_count": 15,
   "metadata": {},
   "outputs": [
    {
     "name": "stdout",
     "output_type": "stream",
     "text": [
      "4\n",
      "5\n",
      "Hello\n",
      "9\n"
     ]
    }
   ],
   "source": [
    "#10 Normal for loop\n",
    "l1=[4,5,\"Hello\",9,]\n",
    "for i in l1:\n",
    "    print(i) #directly accessing elements.\n"
   ]
  },
  {
   "cell_type": "code",
   "execution_count": 14,
   "metadata": {},
   "outputs": [
    {
     "name": "stdout",
     "output_type": "stream",
     "text": [
      "4\n",
      "5\n",
      "Hello\n",
      "9\n",
      "Loop ends.\n"
     ]
    }
   ],
   "source": [
    "#11 len() function\n",
    "l1=[4,5,\"Hello\",9,]\n",
    "for i in range(len(l1)): #by using len() function.\n",
    "    print(l1[i])# we are accessing values just like array. \n",
    "else: #here else is optional\n",
    "    print(\"Loop ends.\")\n",
    "    "
   ]
  },
  {
   "cell_type": "code",
   "execution_count": 17,
   "metadata": {},
   "outputs": [
    {
     "name": "stdout",
     "output_type": "stream",
     "text": [
      "Value is 0\n",
      "Value is 1\n",
      "Value is 2\n",
      "Value is 3\n",
      "Value is 4\n",
      "Value is 5\n"
     ]
    }
   ],
   "source": [
    "#12 break and continue \n",
    "i=0\n",
    "while(i<10):\n",
    "    print(\"Value is\",i)\n",
    "    i=i+1\n",
    "    if(i>5):\n",
    "        break #it means  break is used to terminate the loop.  \n",
    "    "
   ]
  },
  {
   "cell_type": "code",
   "execution_count": 16,
   "metadata": {},
   "outputs": [
    {
     "name": "stdout",
     "output_type": "stream",
     "text": [
      "Value is  1\n",
      "Value is  3\n",
      "Value is  5\n",
      "Value is  7\n",
      "Value is  9\n"
     ]
    }
   ],
   "source": [
    "#13 example of continue.  Continue is used to skip the current iteration and go to next iteration.\n",
    "for j in range(10):\n",
    "    if(j%2==0):\n",
    "        continue\n",
    "    print(\"Value is \",j)    "
   ]
  },
  {
   "cell_type": "code",
   "execution_count": 19,
   "metadata": {},
   "outputs": [],
   "source": [
    "#pass statment- It is null statment. There cannot be empty body so we can use pass (used in loop and functions).\n",
    "#comments are ignored while pass cannot be ignored by interpreter.\n",
    "for i in l:\n",
    "    pass #didnt gave error beacuse pass is used."
   ]
  },
  {
   "cell_type": "code",
   "execution_count": null,
   "metadata": {},
   "outputs": [],
   "source": []
  }
 ],
 "metadata": {
  "kernelspec": {
   "display_name": "Python 3",
   "language": "python",
   "name": "python3"
  },
  "language_info": {
   "codemirror_mode": {
    "name": "ipython",
    "version": 3
   },
   "file_extension": ".py",
   "mimetype": "text/x-python",
   "name": "python",
   "nbconvert_exporter": "python",
   "pygments_lexer": "ipython3",
   "version": "3.8.3"
  }
 },
 "nbformat": 4,
 "nbformat_minor": 4
}
