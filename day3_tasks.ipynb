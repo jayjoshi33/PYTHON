{
 "cells": [
  {
   "cell_type": "code",
   "execution_count": 13,
   "metadata": {},
   "outputs": [
    {
     "name": "stdout",
     "output_type": "stream",
     "text": [
      "Enter 5 numbers:\n",
      "1\n",
      "2\n",
      "4\n",
      "5\n",
      "9\n",
      "Average is  4.2\n"
     ]
    }
   ],
   "source": [
    "#1.\tCalculate average of 5 numbers.\n",
    "s=0\n",
    "print(\"Enter 5 numbers:\")\n",
    "l=[]\n",
    "for i in range(5):\n",
    "    e=int(input())\n",
    "    l.append(e)\n",
    "    s=s+l[i]\n",
    "a=s/5\n",
    "print(\"Average is \",a)"
   ]
  },
  {
   "cell_type": "code",
   "execution_count": 16,
   "metadata": {},
   "outputs": [
    {
     "name": "stdout",
     "output_type": "stream",
     "text": [
      "Enter a number:78\n",
      "Nummber is even\n"
     ]
    }
   ],
   "source": [
    "#2.\tCheck whether number is even or odd.\n",
    "n=int(input(\"Enter a number:\"))\n",
    "if (n%2==0):\n",
    "    print(\"Nummber is even\")\n",
    "else:\n",
    "    print(\"Number is odd\")"
   ]
  },
  {
   "cell_type": "code",
   "execution_count": 25,
   "metadata": {},
   "outputs": [
    {
     "name": "stdout",
     "output_type": "stream",
     "text": [
      "Enter a year:1700\n",
      "It is not a leap year.\n"
     ]
    }
   ],
   "source": [
    "#3.\tTake a year and check whether it is leap year or not\n",
    "q=int(input(\"Enter a year:\"))\n",
    "if(q%400==0):\n",
    "    print(\"It is leap year.\")\n",
    "else:\n",
    "    if(q%100==0):\n",
    "        print(\"It is not a leap year.\")\n",
    "    elif(q%4==0):\n",
    "        print(\"It is leap year.\")\n",
    "    else:\n",
    "        print(\"It is not a leap year.\")"
   ]
  },
  {
   "cell_type": "code",
   "execution_count": 29,
   "metadata": {},
   "outputs": [
    {
     "name": "stdout",
     "output_type": "stream",
     "text": [
      "Enter a number:0\n",
      "0  is neutral\n"
     ]
    }
   ],
   "source": [
    "#4.\tTake a number and check whether it is zero, positive or negative.\n",
    "w=int(input(\"Enter a number:\"))\n",
    "if(w>0):\n",
    "    print(w,\" is postive\")\n",
    "elif(w==0):\n",
    "    print(w,\" is neutral\")\n",
    "else:\n",
    "    print(w,\" is negative\")\n",
    "    "
   ]
  },
  {
   "cell_type": "code",
   "execution_count": 32,
   "metadata": {},
   "outputs": [
    {
     "name": "stdout",
     "output_type": "stream",
     "text": [
      "Enter 2 numbers:\n",
      "9\n",
      "0\n",
      "9  is greater than  0\n"
     ]
    }
   ],
   "source": [
    "#5.\tTake 2 numbers and display greatest number. (Also check equal number condition)\n",
    "print(\"Enter 2 numbers:\")\n",
    "r=int(input())\n",
    "t=int(input())\n",
    "if(r>t):\n",
    "    print(r,\" is greater than \",t)\n",
    "elif(r==t):\n",
    "    print(r,t,\" both are equal.\")\n",
    "else:\n",
    "    print(t,\"is greater than\",r)"
   ]
  },
  {
   "cell_type": "code",
   "execution_count": 38,
   "metadata": {},
   "outputs": [
    {
     "name": "stdout",
     "output_type": "stream",
     "text": [
      "Enter a number:6\n",
      "Factorial of 6 is 720\n"
     ]
    }
   ],
   "source": [
    "#6. Take a number and find factorial of that number.\n",
    "p=int(input(\"Enter a number:\"))\n",
    "f=1\n",
    "for i in range(2,p+1):\n",
    "    f=f*i\n",
    "print(\"Factorial of\",p,\"is\",f)    \n"
   ]
  },
  {
   "cell_type": "code",
   "execution_count": 42,
   "metadata": {},
   "outputs": [
    {
     "name": "stdout",
     "output_type": "stream",
     "text": [
      "Enter 1st number:3\n",
      "Enter 2nd number:4\n",
      "a= 3 b= 4\n",
      "a= 4 b= 3\n"
     ]
    }
   ],
   "source": [
    "#7.\tWrite a program to swap 2 numbers using third variable.\n",
    "a=int(input(\"Enter 1st number:\"))\n",
    "b=int(input(\"Enter 2nd number:\"))\n",
    "c=0\n",
    "print(\"a=\",a,\"b=\",b)\n",
    "c=a\n",
    "a=b\n",
    "b=c\n",
    "print(\"a=\",a,\"b=\",b)\n",
    "\n"
   ]
  },
  {
   "cell_type": "code",
   "execution_count": 49,
   "metadata": {},
   "outputs": [
    {
     "name": "stdout",
     "output_type": "stream",
     "text": [
      "Enter 1st number:8\n",
      "Enter 2nd number:2\n",
      "2 is smallest number.\n"
     ]
    }
   ],
   "source": [
    "#8.\tTake 2 numbers and find smallest number.\n",
    "z=int(input(\"Enter 1st number:\"))\n",
    "x=int(input(\"Enter 2nd number:\"))\n",
    "if(x<z):\n",
    "    print(x,\"is smallest number.\")\n",
    "elif(z==x):\n",
    "    print(\"Both are equal\")\n",
    "else:\n",
    "    print(z,\"is smallest number.\")\n",
    "    "
   ]
  },
  {
   "cell_type": "code",
   "execution_count": 53,
   "metadata": {},
   "outputs": [
    {
     "name": "stdout",
     "output_type": "stream",
     "text": [
      "Enter a number:100\n",
      "Enter a valid number.\n"
     ]
    }
   ],
   "source": [
    "#9.\tTake a number check if a number is less than 100 or not. If it is less than 100 then check if it is odd or even.\n",
    "m=int(input(\"Enter a number:\"))\n",
    "if(m<100):\n",
    "    if(m%2==0):\n",
    "        print(m,\"is even number.\")\n",
    "    else:\n",
    "        print(m,\"is odd number.\")\n",
    "else:\n",
    "    print(\"Enter a valid number.\")"
   ]
  },
  {
   "cell_type": "code",
   "execution_count": 57,
   "metadata": {},
   "outputs": [
    {
     "name": "stdout",
     "output_type": "stream",
     "text": [
      "Enter a number:10\n",
      "Enter number less than 10.\n"
     ]
    }
   ],
   "source": [
    "#10.\tTake a number to print the square of a number if it is less than 10.\n",
    "b=int(input(\"Enter a number:\"))\n",
    "if(b<10):\n",
    "    print(\"Square is \",(b*b))\n",
    "else:\n",
    "    print(\"Enter number less than 10.\")"
   ]
  },
  {
   "cell_type": "code",
   "execution_count": 62,
   "metadata": {},
   "outputs": [
    {
     "name": "stdout",
     "output_type": "stream",
     "text": [
      "Enter a number:0\n",
      "It is neutral.\n"
     ]
    }
   ],
   "source": [
    "#11.\tTake a number and check whether it is zero, positive or negative using nested IF…ELSE statement .\n",
    "k=int(input(\"Enter a number:\"))\n",
    "if(k>=0):\n",
    "    if(k==0):\n",
    "        print(\"It is neutral.\")\n",
    "    else:\n",
    "        print(\"It is positive.\")\n",
    "else:\n",
    "    print(\"It is negative\")\n"
   ]
  },
  {
   "cell_type": "code",
   "execution_count": 3,
   "metadata": {},
   "outputs": [
    {
     "name": "stdout",
     "output_type": "stream",
     "text": [
      "Enter 1st number:3\n",
      "Enter 2nd number:88\n",
      "Enter 3rd number:23\n",
      "88 is the greatest number.\n"
     ]
    }
   ],
   "source": [
    "#12.\tTake 3 numbers and find greatest number using nested IF….ELSE statement.\n",
    "x=int(input(\"Enter 1st number:\"))\n",
    "y=int(input(\"Enter 2nd number:\"))\n",
    "z=int(input(\"Enter 3rd number:\"))\n",
    "if(x>y):\n",
    "    if(x>z):\n",
    "        print(x,\"is the greatest number.\")\n",
    "    else:\n",
    "        print(z,\"is the greatest number.\")\n",
    "else:\n",
    "    if(y>z):\n",
    "        print(y,\"is the greatest number.\")\n",
    "    else:\n",
    "        print(z,\"is the greatest number.\")\n"
   ]
  },
  {
   "cell_type": "code",
   "execution_count": 6,
   "metadata": {},
   "outputs": [
    {
     "name": "stdout",
     "output_type": "stream",
     "text": [
      "Enter 1st number:7\n",
      "Enter 2nd number:3\n",
      "Enter 3rd number:78\n",
      "3 is the smallest number.\n"
     ]
    }
   ],
   "source": [
    "#13.\tTake 3 numbers and find smallest number using logical operator.\n",
    "x=int(input(\"Enter 1st number:\"))\n",
    "y=int(input(\"Enter 2nd number:\"))\n",
    "z=int(input(\"Enter 3rd number:\"))\n",
    "if (x<y) and (x<z):\n",
    "    print(x,\"is the smallest number.\")\n",
    "elif(y<x) and (y<z):\n",
    "    print(y,\"is the smallest number.\")\n",
    "else:\n",
    "    print(z,\"is the smallest number.\")"
   ]
  },
  {
   "cell_type": "code",
   "execution_count": 7,
   "metadata": {},
   "outputs": [
    {
     "name": "stdout",
     "output_type": "stream",
     "text": [
      "Enter 1st number:4\n",
      "Enter 2nd number:3\n",
      "p= 4 q= 3\n",
      "p= 3 q= 4\n"
     ]
    }
   ],
   "source": [
    "#14.\tWrite a program to swap 2 numbers without taking third variable.\n",
    "p=int(input(\"Enter 1st number:\"))\n",
    "q=int(input(\"Enter 2nd number:\"))\n",
    "print(\"p=\",p,\"q=\",q)\n",
    "p=p+q\n",
    "q=p-q\n",
    "p=p-q\n",
    "print(\"p=\",p,\"q=\",q)"
   ]
  },
  {
   "cell_type": "code",
   "execution_count": 30,
   "metadata": {},
   "outputs": [
    {
     "name": "stdout",
     "output_type": "stream",
     "text": [
      "Enter starting number:30\n",
      "Enter ending number:3\n",
      "30\n",
      "27\n",
      "24\n",
      "21\n",
      "18\n",
      "15\n",
      "12\n",
      "9\n",
      "6\n",
      "3\n"
     ]
    }
   ],
   "source": [
    "#15.\tTake starting number and ending number from the user and print following series.\n",
    "s=int(input(\"Enter starting number:\"))\n",
    "e=int(input(\"Enter ending number:\"))\n",
    "for i in range(s,e,-3):\n",
    "    print(i)\n",
    "    "
   ]
  },
  {
   "cell_type": "code",
   "execution_count": null,
   "metadata": {},
   "outputs": [],
   "source": []
  },
  {
   "cell_type": "code",
   "execution_count": null,
   "metadata": {},
   "outputs": [],
   "source": []
  }
 ],
 "metadata": {
  "kernelspec": {
   "display_name": "Python 3",
   "language": "python",
   "name": "python3"
  },
  "language_info": {
   "codemirror_mode": {
    "name": "ipython",
    "version": 3
   },
   "file_extension": ".py",
   "mimetype": "text/x-python",
   "name": "python",
   "nbconvert_exporter": "python",
   "pygments_lexer": "ipython3",
   "version": "3.8.3"
  }
 },
 "nbformat": 4,
 "nbformat_minor": 4
}
