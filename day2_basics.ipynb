{
 "cells": [
  {
   "cell_type": "code",
   "execution_count": 1,
   "metadata": {},
   "outputs": [],
   "source": [
    "#for comments use # or triple qutoes \"\"\"h\"\"\""
   ]
  },
  {
   "cell_type": "code",
   "execution_count": 1,
   "metadata": {},
   "outputs": [
    {
     "name": "stdout",
     "output_type": "stream",
     "text": [
      "10\n",
      "Float is 9.7\n",
      "My name is jay\n"
     ]
    },
    {
     "data": {
      "text/plain": [
       "'This is multi line comment.'"
      ]
     },
     "execution_count": 1,
     "metadata": {},
     "output_type": "execute_result"
    }
   ],
   "source": [
    "#1 Assigning variables and multi line comments.\n",
    "n=10\n",
    "n1=9.7\n",
    "n2=\"jay\"\n",
    "print(n)\n",
    "print(\"Float is\",n1)\n",
    "print(\"My name is\",n2)\n",
    "\"\"\"This is multi line comment.\"\"\""
   ]
  },
  {
   "cell_type": "code",
   "execution_count": 3,
   "metadata": {},
   "outputs": [
    {
     "name": "stdout",
     "output_type": "stream",
     "text": [
      "12\n",
      "6.6\n"
     ]
    }
   ],
   "source": [
    "#2 Assinging multiple variables\n",
    "a,b,c=12,6.6,\"Roy\"\n",
    "print(a)\n",
    "print(b)"
   ]
  },
  {
   "cell_type": "code",
   "execution_count": 4,
   "metadata": {},
   "outputs": [
    {
     "name": "stdout",
     "output_type": "stream",
     "text": [
      "40\n",
      "40\n"
     ]
    }
   ],
   "source": [
    "#3 single value in multiple variable\n",
    "a=b=40\n",
    "print(a)\n",
    "print(b)"
   ]
  },
  {
   "cell_type": "code",
   "execution_count": 5,
   "metadata": {},
   "outputs": [
    {
     "data": {
      "text/plain": [
       "'5 types of data types are there\\n1)Number has 3 classes:\\nint,float,complex ,use type() to find this, to generate boolean value use isinstance(4,int) it takes 2 parameter.\\n2)string\\n3)list\\n4)tuple\\n5)dictionary'"
      ]
     },
     "execution_count": 5,
     "metadata": {},
     "output_type": "execute_result"
    }
   ],
   "source": [
    "#4 date types in python:\n",
    "\"\"\"5 types of data types are there\n",
    "1)Number has 3 classes:\n",
    "int,float,complex ,use type() to find this, to generate boolean value use isinstance(4,int) it takes 2 parameter.\n",
    "2)string\n",
    "3)list\n",
    "4)tuple\n",
    "5)dictionary\"\"\""
   ]
  },
  {
   "cell_type": "code",
   "execution_count": 4,
   "metadata": {},
   "outputs": [
    {
     "name": "stdout",
     "output_type": "stream",
     "text": [
      "<class 'int'>\n",
      "<class 'float'>\n",
      "True\n",
      "False\n"
     ]
    }
   ],
   "source": [
    "#5 \n",
    "s=12\n",
    "x=3.5\n",
    "print(type(s))\n",
    "print(type(x))\n",
    "print(isinstance(4,int))\n",
    "print(isinstance(4,str))"
   ]
  },
  {
   "cell_type": "code",
   "execution_count": 12,
   "metadata": {},
   "outputs": [
    {
     "name": "stdout",
     "output_type": "stream",
     "text": [
      "Akashh Technolab \n",
      "A\n",
      "ash\n",
      "ashh Technolab \n",
      "Ak\n",
      "Akashh Technolab Akashh Technolab \n",
      "Akashh Technolab  Hello\n"
     ]
    }
   ],
   "source": [
    "#6 String datatype and its operations\n",
    "n=\"Akashh Technolab \"\n",
    "print(n)\n",
    "print(n[0])\n",
    "print(n[2:5])#from 2 to 4\n",
    "print(n[2:])\n",
    "print(n[:2]) #from 0 to 1\n",
    "print(2*n)\n",
    "print(n+\" Hello\")"
   ]
  },
  {
   "cell_type": "code",
   "execution_count": 5,
   "metadata": {},
   "outputs": [
    {
     "name": "stdout",
     "output_type": "stream",
     "text": [
      "5\n",
      "[2, 3, 4, 5, 'jay']\n",
      "4\n",
      "[2, 3, 4]\n",
      "[3, 4, 5]\n",
      "<class 'list'>\n"
     ]
    }
   ],
   "source": [
    "#7 list datatype and its operations\n",
    "#list is mutable and [] are used to declare list.\n",
    "l=[2,3,4,5,\"jay\"]\n",
    "\n",
    "print(l[-2])\n",
    "print(l)\n",
    "print(l[2])\n",
    "print(l[:3])\n",
    "print(l[1:4])\n",
    "print(type(l))"
   ]
  },
  {
   "cell_type": "code",
   "execution_count": 8,
   "metadata": {},
   "outputs": [
    {
     "name": "stdout",
     "output_type": "stream",
     "text": [
      "(2, 3, 'Raj', 6)\n",
      "<class 'tuple'>\n",
      "2\n",
      "(2, 3)\n",
      "(3, 'Raj', 6)\n",
      "(3, 'Raj')\n"
     ]
    }
   ],
   "source": [
    "#8 Tuple datatype and its operations.\n",
    "#tuple is immutable, it means once created it can cannot be modified.() brackets are used to declare tuple.\n",
    "t=(2,3,\"Raj\",6)\n",
    "print(t)\n",
    "print(type(t))\n",
    "print(t[0])\n",
    "print(t[:2]) #0,1 inlcued\n",
    "print(t[1:])\n",
    "print(t[1:3])"
   ]
  },
  {
   "cell_type": "code",
   "execution_count": 19,
   "metadata": {},
   "outputs": [
    {
     "name": "stdout",
     "output_type": "stream",
     "text": [
      "{1: 'Hello', 'a1': 10, 3: 300}\n",
      "Hello\n",
      "10\n",
      "300\n"
     ]
    }
   ],
   "source": [
    "#9 dictionary datatype and its operations\n",
    "#It is kind of hash type table. \n",
    "d1={1:\"Hello\",\"a1\":10,3:300}\n",
    "print(d1)\n",
    "print(d1[1])\n",
    "print(d1[\"a1\"])\n",
    "print(d1[3])"
   ]
  },
  {
   "cell_type": "code",
   "execution_count": null,
   "metadata": {},
   "outputs": [],
   "source": []
  }
 ],
 "metadata": {
  "kernelspec": {
   "display_name": "Python 3",
   "language": "python",
   "name": "python3"
  },
  "language_info": {
   "codemirror_mode": {
    "name": "ipython",
    "version": 3
   },
   "file_extension": ".py",
   "mimetype": "text/x-python",
   "name": "python",
   "nbconvert_exporter": "python",
   "pygments_lexer": "ipython3",
   "version": "3.8.3"
  }
 },
 "nbformat": 4,
 "nbformat_minor": 4
}
