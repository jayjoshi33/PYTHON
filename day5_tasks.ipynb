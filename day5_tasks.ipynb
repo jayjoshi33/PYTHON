{
 "cells": [
  {
   "cell_type": "code",
   "execution_count": 5,
   "metadata": {},
   "outputs": [
    {
     "name": "stdout",
     "output_type": "stream",
     "text": [
      "Sum is 9\n"
     ]
    }
   ],
   "source": [
    "#1Create a class cal1 that will calculate sum of three numbers. Create\n",
    "#setdata() method which has three parameters that contain numbers.\n",
    "#Create display() method that will calculate sum and display sum.\n",
    "class cal1:\n",
    "    n1=0\n",
    "    n2=0\n",
    "    n3=0\n",
    "    def setdata(self,n1,n2,n3):\n",
    "        self.n1=n1 #right side shows local variable.\n",
    "        self.n2=n2\n",
    "        self.n3=n3\n",
    "        \n",
    "    def display(self):\n",
    "        sum=self.n1+self.n2+self.n3\n",
    "        print(\"Sum is\",sum)\n",
    "d=cal1()\n",
    "d.setdata(2,3,4)\n",
    "d.display()"
   ]
  },
  {
   "cell_type": "code",
   "execution_count": 13,
   "metadata": {},
   "outputs": [
    {
     "name": "stdout",
     "output_type": "stream",
     "text": [
      "Enter radius:10\n",
      "Area of circle is 314.0\n"
     ]
    }
   ],
   "source": [
    "#2 Create a class cal2 that will calculate area of a circle. Create setdata()\n",
    "#method that should take radius from the user. Create area() method\n",
    "#that will calculate area . Create display() method that will display area .\n",
    "class cal2:\n",
    "    a=0\n",
    "    def setdata(self,x):\n",
    "        self.x=x\n",
    "    def area(self):\n",
    "        self.a=3.14*self.x*self.x\n",
    "    def display(self):\n",
    "        print(\"Area of circle is\",self.a)\n",
    "d2=cal2()\n",
    "x=int(input(\"Enter radius:\"))\n",
    "d2.setdata(x)\n",
    "d2.area()\n",
    "d2.display()"
   ]
  },
  {
   "cell_type": "code",
   "execution_count": 2,
   "metadata": {},
   "outputs": [
    {
     "name": "stdout",
     "output_type": "stream",
     "text": [
      "Simple interest is 4200.0\n"
     ]
    }
   ],
   "source": [
    "#3 Create a class cal3 that will calculate simple interest. Create\n",
    "#constructor method which has three parameters .Create calInterest()\n",
    "#method that will calculate Interest . Create display() method that will\n",
    "#display Interest.\n",
    "class cal3:\n",
    "    def __init__(self,p,r,t):\n",
    "        self.p=p\n",
    "        self.r=r\n",
    "        self.t=t\n",
    "    def calInterest(self):\n",
    "        self.i=(self.p*self.r*self.t)/100\n",
    "    def display(self):\n",
    "        print(\"Simple interest is\",self.i)\n",
    "d3=cal3(20000,7,3)\n",
    "d3.calInterest()\n",
    "d3.display()\n",
    "    "
   ]
  },
  {
   "cell_type": "code",
   "execution_count": 18,
   "metadata": {},
   "outputs": [
    {
     "name": "stdout",
     "output_type": "stream",
     "text": [
      "Square of 4 is  16\n"
     ]
    }
   ],
   "source": [
    "#4 Create a class cal4 that will calculate square of a number. Create\n",
    "#setdata() method which has one parameters that contain number.\n",
    "#Create display() method that will calculate sum.(Function should\n",
    "#return value)\n",
    "class cal4:\n",
    "    def setdata(self,n):\n",
    "        self.n=n\n",
    "    def display(self):\n",
    "        self.x=self.n*self.n\n",
    "        return self.x\n",
    "d4=cal4()\n",
    "d4.setdata(4)\n",
    "s=d4.display()\n",
    "print(\"Square of 4 is \",s)"
   ]
  },
  {
   "cell_type": "code",
   "execution_count": 5,
   "metadata": {},
   "outputs": [
    {
     "name": "stdout",
     "output_type": "stream",
     "text": [
      "Name is  Jay\n",
      "Designation is  Manager\n",
      "Salary is  45000\n"
     ]
    }
   ],
   "source": [
    "#5 Consider an employee class, which contains fields such as name and\n",
    "#designation. And a subclass, which contains a field salary. Write a\n",
    "#program for inheriting this relation.\n",
    "class employee: #parent class\n",
    "    def fun(self,n,d):\n",
    "        self.n=n\n",
    "        self.d=d\n",
    "        print(\"Name is \",self.n)\n",
    "        print(\"Designation is \",self.d)\n",
    "class sub(employee): #child class\n",
    "    def fun1(self,sal):\n",
    "        self.sal=sal\n",
    "        print(\"Salary is \",self.sal)\n",
    "d5=sub() #we can access both child and parent with this object.\n",
    "d5.fun(\"Jay\",\"Manager\")\n",
    "d5.fun1(45000) #using inheritence to access parent class \n",
    "    "
   ]
  },
  {
   "cell_type": "code",
   "execution_count": 6,
   "metadata": {},
   "outputs": [
    {
     "name": "stdout",
     "output_type": "stream",
     "text": [
      "Area of Rectangle is  40\n"
     ]
    }
   ],
   "source": [
    "#6 Create a class cal5 that will calculate area of a rectangle. Create\n",
    "#constructor method which has two parameters .Create calArea()\n",
    "#method that will calculate area of a rectangle. Create display() method\n",
    "#that will display area of a rectangle.\n",
    "class cal5:\n",
    "    def __init__(self,l,w):\n",
    "        self.l=l\n",
    "        self.w=w\n",
    "    def calArea(self):\n",
    "        self.area=self.l*self.w\n",
    "    def display(self):\n",
    "        print(\"Area of Rectangle is \",self.area)\n",
    "d5=cal5(10,4)\n",
    "d5.calArea()\n",
    "d5.display()"
   ]
  },
  {
   "cell_type": "code",
   "execution_count": 21,
   "metadata": {},
   "outputs": [
    {
     "name": "stdout",
     "output_type": "stream",
     "text": [
      "Enter length of side:6\n",
      "Area of square with length 6 is  36\n"
     ]
    }
   ],
   "source": [
    "#7 Create a class cal6 that will calculate area of a square. Create setdata() \n",
    "#method that should take length from the user. Create area() method \n",
    "#that will calculate area . Create display() method that will display area \n",
    "class cal6:\n",
    "    def setdata(self,n):\n",
    "        self.n=n\n",
    "    def area(self):\n",
    "        self.a=self.n*self.n\n",
    "    def display(self):\n",
    "        print(\"Area of square with length\",self.n,\"is \",self.a)\n",
    "d7=cal6()\n",
    "d7.setdata(int(input(\"Enter length of side:\")))\n",
    "d7.area()\n",
    "d7.display()\n",
    "    \n",
    "        "
   ]
  },
  {
   "cell_type": "code",
   "execution_count": 29,
   "metadata": {},
   "outputs": [
    {
     "name": "stdout",
     "output_type": "stream",
     "text": [
      "Name is  Fate\n",
      "Name is  Alchemist\n",
      "It has pages 350\n",
      "Name is  Twilight\n",
      "Name of book is Twilight it was played for 2 hours\n"
     ]
    }
   ],
   "source": [
    "#8. Write a program with use of inheritance: Define a class publisher that \n",
    "#stores the name of the title. Derive two classes book and tape, which \n",
    "#inherit publisher. Book class contains member data called page no and \n",
    "#tape class contain time for playing. Define functions in the appropriate \n",
    "#classes to get and print the details.\n",
    "class publisher:\n",
    "    def title (self,name):\n",
    "        self.name=name\n",
    "        print(\"Name is \",self.name)\n",
    "class book(publisher):\n",
    "    def member(self,pno):\n",
    "        self.pno=pno\n",
    "        print(\"It has pages\",self.pno)\n",
    "class tape(publisher):\n",
    "    def time(self,playing):\n",
    "        self.playing=playing\n",
    "        print(\"Name of book is\",self.name,\"it was played for\",self.playing)\n",
    "d8=publisher()\n",
    "d8.title(\"Fate\")\n",
    "d1=book()\n",
    "d1.title(\"Alchemist\")\n",
    "d1.member(350)\n",
    "d2=tape()\n",
    "d2.title(\"Twilight\")\n",
    "d2.time(\"2 hours\")"
   ]
  },
  {
   "cell_type": "code",
   "execution_count": 42,
   "metadata": {},
   "outputs": [
    {
     "name": "stdout",
     "output_type": "stream",
     "text": [
      "Scheme id is 123\n",
      "Name of scheme is saver\n",
      "Rates are 200\n",
      "Message charges are  5\n",
      "Customer id is 111\n",
      "His name is Raj\n",
      "Mobile number is 987654321\n"
     ]
    }
   ],
   "source": [
    "#9. Create a class called scheme with scheme_id, \n",
    "#scheme_name,outgoing_rate, and message_charge. Derive customer \n",
    "#class form scheme and include cust_id, name and mobile_no \n",
    "#data.Define necessary functions to read and display data.\n",
    "class scheme:\n",
    "    def fun(self,sid,sname,rate,mcharge):\n",
    "        self.sid=sid\n",
    "        self.sname=sname\n",
    "        self.rate=rate\n",
    "        self.mcharge=mcharge\n",
    "        print(\"Scheme id is\",self.sid)\n",
    "        print(\"Name of scheme is\",self.sname)\n",
    "        print(\"Rates are\",rate)\n",
    "        print(\"Message charges are \",mcharge)\n",
    "class customer(scheme):\n",
    "    def fun1(self,cid,cname,num):\n",
    "        self.cname=cname\n",
    "        self.cid=cid\n",
    "        self.num=num\n",
    "        print(\"Customer id is\",self.cid)\n",
    "        print(\"His name is\",cname)\n",
    "        print(\"Mobile number is\",self.num)\n",
    "d9=scheme()\n",
    "d9.fun(123,\"saver\",200,5)\n",
    "d=customer()\n",
    "d.fun1(111,\"Raj\",987654321)"
   ]
  },
  {
   "cell_type": "code",
   "execution_count": 50,
   "metadata": {},
   "outputs": [
    {
     "name": "stdout",
     "output_type": "stream",
     "text": [
      "Addition is 9\n",
      "Subtraction is 3\n",
      "Multiplication is 18\n"
     ]
    }
   ],
   "source": [
    "#10.Create a arith class. The class should have a parameterized constructor \n",
    "#and methods to add, subtract and multiply two numbers and to return \n",
    "#the answers\n",
    "class arith:\n",
    "    def __init__(self,n1,n2):\n",
    "        self.n1=n1\n",
    "        self.n2=n2\n",
    "    def add(self):\n",
    "        self.a=self.n1+self.n2\n",
    "        return self.a\n",
    "    def sub(self):\n",
    "        self.s=self.n1-self.n2\n",
    "        return self.s\n",
    "    def mul(self):\n",
    "        self.m=self.n1*self.n2\n",
    "        return self.m\n",
    "d10=arith(6,3)\n",
    "a=d10.add()\n",
    "s=d10.sub()\n",
    "m=d10.mul()\n",
    "print(\"Addition is\",a)\n",
    "print(\"Subtraction is\",s)\n",
    "print(\"Multiplication is\",m)"
   ]
  },
  {
   "cell_type": "code",
   "execution_count": null,
   "metadata": {},
   "outputs": [],
   "source": []
  }
 ],
 "metadata": {
  "kernelspec": {
   "display_name": "Python 3",
   "language": "python",
   "name": "python3"
  },
  "language_info": {
   "codemirror_mode": {
    "name": "ipython",
    "version": 3
   },
   "file_extension": ".py",
   "mimetype": "text/x-python",
   "name": "python",
   "nbconvert_exporter": "python",
   "pygments_lexer": "ipython3",
   "version": "3.8.3"
  }
 },
 "nbformat": 4,
 "nbformat_minor": 4
}
