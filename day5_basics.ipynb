{
 "cells": [
  {
   "cell_type": "code",
   "execution_count": 5,
   "metadata": {},
   "outputs": [
    {
     "name": "stdout",
     "output_type": "stream",
     "text": [
      "This is function of class\n",
      "Name is Jay\n"
     ]
    }
   ],
   "source": [
    "class Demo:\n",
    "    def fun(self): #no argument\n",
    "        print(\"This is function of class\")\n",
    "    def show(self,name):#with argument\n",
    "        print(\"Name is\",name)\n",
    "d1=Demo() #creating object\n",
    "d1.fun()\n",
    "d1.show(\"Jay\")"
   ]
  },
  {
   "cell_type": "code",
   "execution_count": 6,
   "metadata": {},
   "outputs": [
    {
     "ename": "SyntaxError",
     "evalue": "unexpected EOF while parsing (<ipython-input-6-4a510dcab612>, line 4)",
     "output_type": "error",
     "traceback": [
      "\u001b[1;36m  File \u001b[1;32m\"<ipython-input-6-4a510dcab612>\"\u001b[1;36m, line \u001b[1;32m4\u001b[0m\n\u001b[1;33m    \u001b[0m\n\u001b[1;37m    ^\u001b[0m\n\u001b[1;31mSyntaxError\u001b[0m\u001b[1;31m:\u001b[0m unexpected EOF while parsing\n"
     ]
    }
   ],
   "source": [
    "class Myclass:\n",
    "    def sum(self,n1,n2):\n",
    "        \n",
    "    "
   ]
  },
  {
   "cell_type": "code",
   "execution_count": 7,
   "metadata": {},
   "outputs": [],
   "source": [
    "#inheritence- used to extend the class\n"
   ]
  },
  {
   "cell_type": "code",
   "execution_count": 12,
   "metadata": {},
   "outputs": [
    {
     "name": "stdout",
     "output_type": "stream",
     "text": [
      "This is child class method.\n",
      "This is parent class method.\n"
     ]
    }
   ],
   "source": [
    "#single-level inheritence-\n",
    "class Demo1:\n",
    "    def fun1(self):\n",
    "        print(\"This is parent class method.\")\n",
    "class Child(Demo1):\n",
    "    def fun2(self):\n",
    "        print(\"This is child class method.\")\n",
    "d1=Child()      \n",
    "d1.fun2()\n",
    "d1.fun1()"
   ]
  },
  {
   "cell_type": "code",
   "execution_count": 16,
   "metadata": {},
   "outputs": [
    {
     "name": "stdout",
     "output_type": "stream",
     "text": [
      "This is parent class method\n",
      "This is child class method\n",
      "This is grand child method.\n"
     ]
    }
   ],
   "source": [
    "#multi-level inheritence\n",
    "class A:\n",
    "    def funa(self):\n",
    "        print(\"This is parent class method\")\n",
    "class B(A):\n",
    "    def funb(self):\n",
    "        print(\"This is child class method\")\n",
    "class C(B):\n",
    "    def func(self):\n",
    "        print(\"This is grand child method.\")\n",
    "d2=C()   #always create object of last child so that we can access all the the superior parent class.\n",
    "d2.funa()\n",
    "d2.funb()\n",
    "d2.func() #A->B->C"
   ]
  },
  {
   "cell_type": "code",
   "execution_count": 18,
   "metadata": {},
   "outputs": [],
   "source": [
    "#mutiple inheritence 2 parent class and single child class \n"
   ]
  },
  {
   "cell_type": "code",
   "execution_count": 19,
   "metadata": {},
   "outputs": [],
   "source": [
    "#hierachical inheritence single parent and multiple child\n"
   ]
  },
  {
   "cell_type": "code",
   "execution_count": 20,
   "metadata": {},
   "outputs": [],
   "source": [
    "#hybrid inheritence- When we use \n"
   ]
  },
  {
   "cell_type": "code",
   "execution_count": 21,
   "metadata": {},
   "outputs": [],
   "source": [
    "#Polymorphism\n"
   ]
  },
  {
   "cell_type": "code",
   "execution_count": 23,
   "metadata": {},
   "outputs": [
    {
     "name": "stdout",
     "output_type": "stream",
     "text": [
      "This is child class.\n"
     ]
    }
   ],
   "source": [
    "#overriding method- run-time polymorphism\n",
    "class Dem:\n",
    "    def sum(self):\n",
    "        print(\"This is parent class.\")\n",
    "class Chil:\n",
    "    def sum(self):\n",
    "        print(\"This is child class.\") #priority to child class is given.\n",
    "obj=Chil()\n",
    "obj.sum()"
   ]
  },
  {
   "cell_type": "code",
   "execution_count": null,
   "metadata": {},
   "outputs": [],
   "source": []
  }
 ],
 "metadata": {
  "kernelspec": {
   "display_name": "Python 3",
   "language": "python",
   "name": "python3"
  },
  "language_info": {
   "codemirror_mode": {
    "name": "ipython",
    "version": 3
   },
   "file_extension": ".py",
   "mimetype": "text/x-python",
   "name": "python",
   "nbconvert_exporter": "python",
   "pygments_lexer": "ipython3",
   "version": "3.8.3"
  }
 },
 "nbformat": 4,
 "nbformat_minor": 4
}
